{
  "nbformat": 4,
  "nbformat_minor": 0,
  "metadata": {
    "colab": {
      "name": "Algorithms.ipynb",
      "provenance": [],
      "toc_visible": true,
      "authorship_tag": "ABX9TyNosRLhLgjFOWIoN2zy/A/c",
      "include_colab_link": true
    },
    "kernelspec": {
      "name": "python3",
      "display_name": "Python 3"
    }
  },
  "cells": [
    {
      "cell_type": "markdown",
      "metadata": {
        "id": "view-in-github",
        "colab_type": "text"
      },
      "source": [
        "<a href=\"https://colab.research.google.com/github/aliobeid/algos/blob/master/Algorithms.ipynb\" target=\"_parent\"><img src=\"https://colab.research.google.com/assets/colab-badge.svg\" alt=\"Open In Colab\"/></a>"
      ]
    },
    {
      "cell_type": "markdown",
      "metadata": {
        "id": "RVAw1YlS7faL",
        "colab_type": "text"
      },
      "source": [
        "# Permutations of a String\n"
      ]
    },
    {
      "cell_type": "code",
      "metadata": {
        "id": "POa-pB-57giN",
        "colab_type": "code",
        "colab": {}
      },
      "source": [
        "\n",
        "def perms(word):\n",
        "  if len(word)<=1:\n",
        "    return word\n",
        "  else:\n",
        "    lst = []\n",
        "    for i in range(len(word)):\n",
        "      f = word[i]\n",
        "      r = word[0:i]+word[i+1:]\n",
        "      for perm in perms(r):\n",
        "        lst.append(f+perm)\n",
        "    return lst \n",
        "\n",
        "\n"
      ],
      "execution_count": null,
      "outputs": []
    },
    {
      "cell_type": "code",
      "metadata": {
        "id": "QaPCU7sJKWZk",
        "colab_type": "code",
        "colab": {}
      },
      "source": [
        "def permutations(word):\n",
        "    if len(word) <=1:\n",
        "        return word\n",
        "    else:\n",
        "        lst = []\n",
        "    for p in permutations(word[1:]):\n",
        "        for i in range(len(word)):\n",
        "            lst.append(p[:i]+word[0:1]+p[i:])\n",
        "    return lst"
      ],
      "execution_count": null,
      "outputs": []
    },
    {
      "cell_type": "code",
      "metadata": {
        "id": "5n3WkhtSbUmW",
        "colab_type": "code",
        "colab": {
          "base_uri": "https://localhost:8080/",
          "height": 51
        },
        "outputId": "bd29d550-da6c-4c36-bf06-904ffcf340c0"
      },
      "source": [
        "%%timeit\n",
        "permutations(\"abcd\")"
      ],
      "execution_count": null,
      "outputs": [
        {
          "output_type": "stream",
          "text": [
            "The slowest run took 5.67 times longer than the fastest. This could mean that an intermediate result is being cached.\n",
            "100000 loops, best of 3: 14.4 µs per loop\n"
          ],
          "name": "stdout"
        }
      ]
    },
    {
      "cell_type": "code",
      "metadata": {
        "id": "vS1f37ukbdge",
        "colab_type": "code",
        "colab": {
          "base_uri": "https://localhost:8080/",
          "height": 34
        },
        "outputId": "8f07ad48-d85f-41de-b935-e0dc08f5c4e0"
      },
      "source": [
        "%%timeit\n",
        "perms(\"abcd\")"
      ],
      "execution_count": null,
      "outputs": [
        {
          "output_type": "stream",
          "text": [
            "10000 loops, best of 3: 32.1 µs per loop\n"
          ],
          "name": "stdout"
        }
      ]
    },
    {
      "cell_type": "code",
      "metadata": {
        "id": "GpAtaQY0cqrG",
        "colab_type": "code",
        "colab": {}
      },
      "source": [
        ""
      ],
      "execution_count": null,
      "outputs": []
    },
    {
      "cell_type": "markdown",
      "metadata": {
        "id": "V20CDD89722i",
        "colab_type": "text"
      },
      "source": [
        "# Most frequent integer of an integer array"
      ]
    },
    {
      "cell_type": "code",
      "metadata": {
        "id": "sIBmuprO8BtI",
        "colab_type": "code",
        "colab": {}
      },
      "source": [
        "array= [1,9,8,6,5,3,4,4,4,5,3,5,2,3,5,4]\n",
        "\n",
        "def most_freq_int(int_array):\n",
        "    count_dict = {}\n",
        "    for i in int_array:\n",
        "        if i in count_dict:\n",
        "            count_dict[i] +=1\n",
        "        else:\n",
        "            count_dict[i] = 1 \n",
        "    max_counter = -1 \n",
        "    most_freq = None \n",
        "    for int_val in count_dict.keys():\n",
        "        if count_dict[int_val] > max_counter:\n",
        "            max_counter = count_dict[int_val]\n",
        "            most_freq = int_val   \n",
        "    return most_freq\n",
        "\n",
        "\n"
      ],
      "execution_count": null,
      "outputs": []
    },
    {
      "cell_type": "code",
      "metadata": {
        "id": "G7GtJjQk-yOn",
        "colab_type": "code",
        "colab": {
          "base_uri": "https://localhost:8080/",
          "height": 34
        },
        "outputId": "f8c2507f-a066-41a6-b31e-7d0a5449564d"
      },
      "source": [
        "most_freq_int(array)"
      ],
      "execution_count": null,
      "outputs": [
        {
          "output_type": "execute_result",
          "data": {
            "text/plain": [
              "4"
            ]
          },
          "metadata": {
            "tags": []
          },
          "execution_count": 22
        }
      ]
    },
    {
      "cell_type": "code",
      "metadata": {
        "id": "TitQSn0_-6vh",
        "colab_type": "code",
        "colab": {}
      },
      "source": [
        "count_dict = {}\n",
        "for i in array:\n",
        "    if i in count_dict:\n",
        "        count_dict[i] +=1\n",
        "    else:\n",
        "        count_dict[i] = 1\n",
        "        \n",
        "max_counter = -1 \n",
        "most_freq = None \n",
        "for int_val in count_dict.keys():\n",
        "    if count_dict[int_val] > max_counter:\n",
        "        max_counter = count_dict[int_val]\n",
        "        most_freq = int_val\n",
        "\n"
      ],
      "execution_count": null,
      "outputs": []
    },
    {
      "cell_type": "code",
      "metadata": {
        "id": "3Ymw03SCnqJP",
        "colab_type": "code",
        "colab": {
          "base_uri": "https://localhost:8080/",
          "height": 34
        },
        "outputId": "d3fb32cd-fc62-4916-8501-7faf64171dad"
      },
      "source": [
        "count_dict\n"
      ],
      "execution_count": null,
      "outputs": [
        {
          "output_type": "execute_result",
          "data": {
            "text/plain": [
              "{1: 1, 2: 1, 3: 3, 4: 4, 5: 4, 6: 1, 8: 1, 9: 1}"
            ]
          },
          "metadata": {
            "tags": []
          },
          "execution_count": 26
        }
      ]
    },
    {
      "cell_type": "code",
      "metadata": {
        "id": "mu-LBdH0nx-l",
        "colab_type": "code",
        "colab": {
          "base_uri": "https://localhost:8080/",
          "height": 34
        },
        "outputId": "891de257-ef39-4d73-f026-3af684bf05b7"
      },
      "source": [
        "most_freq"
      ],
      "execution_count": null,
      "outputs": [
        {
          "output_type": "execute_result",
          "data": {
            "text/plain": [
              "5"
            ]
          },
          "metadata": {
            "tags": []
          },
          "execution_count": 27
        }
      ]
    },
    {
      "cell_type": "code",
      "metadata": {
        "id": "O6yQ-b2MAo5E",
        "colab_type": "code",
        "colab": {}
      },
      "source": [
        ""
      ],
      "execution_count": null,
      "outputs": []
    }
  ]
}